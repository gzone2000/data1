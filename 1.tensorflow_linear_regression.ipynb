{
 "cells": [
  {
   "cell_type": "code",
   "execution_count": 1,
   "metadata": {},
   "outputs": [],
   "source": [
    "import tensorflow as tf\n",
    "import numpy as np\n",
    "import matplotlib.pyplot as plt"
   ]
  },
  {
   "cell_type": "code",
   "execution_count": 2,
   "metadata": {},
   "outputs": [],
   "source": [
    "# ======== 파라미터 ========\n",
    "training_steps = 22000\n",
    "display_step = 1000"
   ]
  },
  {
   "cell_type": "code",
   "execution_count": 3,
   "metadata": {},
   "outputs": [
    {
     "name": "stdout",
     "output_type": "stream",
     "text": [
      "샘플수: 10\n"
     ]
    }
   ],
   "source": [
    "# ======== 학습데이터 ========\n",
    "# 학습시간\n",
    "X = np.array([54, 8, 30, 24, 46, 12, 20, 37, 40, 48])\n",
    "# 토익점수\n",
    "Y = np.array([800, 320, 600, 630, 700, 680, 730, 720, 700, 920])\n",
    "# 샘플 갯수\n",
    "n_samples = X.shape[0]\n",
    "\n",
    "print(\"샘플수: %i\" % (n_samples))"
   ]
  },
  {
   "cell_type": "code",
   "execution_count": 4,
   "metadata": {},
   "outputs": [],
   "source": [
    "# ======== W, B 초기값 설정 =========\n",
    "W = tf.Variable(np.random.randn(), name=\"weight\")\n",
    "b = tf.Variable(np.random.randn(), name=\"bias\")"
   ]
  },
  {
   "cell_type": "code",
   "execution_count": 5,
   "metadata": {},
   "outputs": [],
   "source": [
    "# ======== Linear Regression 에서 학습될 가설 ========\n",
    "# Linear regression (Wx + b).\n",
    "def linear_regression(x):\n",
    "    return W * x + b"
   ]
  },
  {
   "cell_type": "code",
   "execution_count": 6,
   "metadata": {},
   "outputs": [],
   "source": [
    "# ======== Linear Regression 에서 학습될 가설의 Cost Function ========\n",
    "# Mean square error.\n",
    "def mean_square(y_pred, y_true):\n",
    "    return tf.reduce_mean(tf.square(y_pred - y_true)) "
   ]
  },
  {
   "cell_type": "code",
   "execution_count": 7,
   "metadata": {},
   "outputs": [],
   "source": [
    "# ======== Gradient Descent Algorithm 에서 Step ========\n",
    "learning_rate = 0.0008"
   ]
  },
  {
   "cell_type": "code",
   "execution_count": 8,
   "metadata": {},
   "outputs": [],
   "source": [
    "# ======== 텐서플로우에 내장된 GradientDescentOptimizer ========\n",
    "# Stochastic Gradient Descent Optimizer.\n",
    "optimizer = tf.optimizers.SGD(learning_rate)"
   ]
  },
  {
   "cell_type": "code",
   "execution_count": 9,
   "metadata": {},
   "outputs": [],
   "source": [
    "# ======== GradientDescentOptimizer ========\n",
    "# Optimization process. \n",
    "def run_optimization():\n",
    "    # Wrap computation inside a GradientTape for automatic differentiation. : 자동 미분\n",
    "    with tf.GradientTape() as g:\n",
    "        pred = linear_regression(X)\n",
    "        cost = mean_square(pred, Y)\n",
    "\n",
    "    # Compute gradients.\n",
    "    # gradients = g.gradient(cost, [W, b])\n",
    "    \n",
    "    # Update W and b following gradients.\n",
    "    # optimizer.apply_gradients(zip(gradients, [W, b]))\n",
    "    \n",
    "    weight, bias = g.gradient(cost, [W, b])\n",
    "    W.assign_sub(learning_rate * weight)\n",
    "    b.assign_sub(learning_rate * bias)"
   ]
  },
  {
   "cell_type": "code",
   "execution_count": 10,
   "metadata": {},
   "outputs": [
    {
     "name": "stdout",
     "output_type": "stream",
     "text": [
      "step: 1000, cost: 31210.353516, W: 15.899635, b: 111.834084\n",
      "step: 2000, cost: 22141.888672, W: 13.714158, b: 196.699188\n",
      "step: 3000, cost: 17020.007812, W: 12.071699, b: 260.478210\n",
      "step: 4000, cost: 14127.142578, W: 10.837334, b: 308.410583\n",
      "step: 5000, cost: 12493.256836, W: 9.909669, b: 344.433197\n",
      "step: 6000, cost: 11570.454102, W: 9.212499, b: 371.504944\n",
      "step: 7000, cost: 11049.247070, W: 8.688556, b: 391.850403\n",
      "step: 8000, cost: 10754.870117, W: 8.294794, b: 407.140778\n",
      "step: 9000, cost: 10588.603516, W: 7.998871, b: 418.631897\n",
      "step: 10000, cost: 10494.697266, W: 7.776475, b: 427.267731\n",
      "step: 11000, cost: 10441.660156, W: 7.609344, b: 433.757965\n",
      "step: 12000, cost: 10411.705078, W: 7.483730, b: 438.635468\n",
      "step: 13000, cost: 10394.786133, W: 7.389338, b: 442.301147\n",
      "step: 14000, cost: 10385.228516, W: 7.318388, b: 445.056030\n",
      "step: 15000, cost: 10379.831055, W: 7.265069, b: 447.126434\n",
      "step: 16000, cost: 10376.780273, W: 7.225002, b: 448.682312\n",
      "step: 17000, cost: 10375.059570, W: 7.194886, b: 449.851654\n",
      "step: 18000, cost: 10374.089844, W: 7.172259, b: 450.730377\n",
      "step: 19000, cost: 10373.540039, W: 7.155247, b: 451.390961\n",
      "step: 20000, cost: 10373.224609, W: 7.142479, b: 451.886902\n",
      "step: 21000, cost: 10373.051758, W: 7.132851, b: 452.260712\n",
      "step: 22000, cost: 10372.955078, W: 7.125662, b: 452.539795\n"
     ]
    }
   ],
   "source": [
    "# Run training for the given number of steps.\n",
    "for step in range(1, training_steps + 1):\n",
    "    # Run the optimization to update W and b values.\n",
    "    run_optimization()\n",
    "    \n",
    "    if step % display_step == 0:\n",
    "        pred = linear_regression(X)\n",
    "        cost = mean_square(pred, Y)\n",
    "        print(\"step: %i, cost: %f, W: %f, b: %f\" % (step, cost, W.numpy(), b.numpy()))\n",
    "        #print(\"예측값 : {}\".format(pred.numpy()))\n",
    "        \n",
    "        '''\n",
    "        print(\"cost type: {}\".format(type(cost)))\n",
    "        print(\"W type: {}\".format(type(W)))\n",
    "        print(\"b type: {}\".format(type(b)))\n",
    "        print(\"pred type: {}\".format(type(pred)))\n",
    "        '''"
   ]
  },
  {
   "cell_type": "code",
   "execution_count": 11,
   "metadata": {},
   "outputs": [
    {
     "data": {
      "image/png": "[encoded data removed]",
      "text/plain": [
       "<Figure size 432x288 with 1 Axes>"
      ]
     },
     "metadata": {
      "needs_background": "light"
     },
     "output_type": "display_data"
    }
   ],
   "source": [
    "# ======== 학습된 최적의 그래프 그리기 ========\n",
    "# Graphic display\n",
    "plt.plot(X, Y, 'ro', label='Original data')\n",
    "plt.plot(X, np.array(W * X + b), label='Fitted line')\n",
    "plt.legend()\n",
    "plt.show()"
   ]
  },
  {
   "cell_type": "code",
   "execution_count": 12,
   "metadata": {},
   "outputs": [
    {
     "name": "stdout",
     "output_type": "stream",
     "text": [
      "10시간: 523.796387 점\n",
      "40시간: 737.566284 점\n"
     ]
    }
   ],
   "source": [
    "# ======== 학습된 우리의 프로그램에 예측 문의 ========\n",
    "\n",
    "# 10 시간 공부한 경우 토익점수 예측\n",
    "print (\"10시간: %f 점\" % (linear_regression(10).numpy()))\n",
    "# 40 시간 공부한 경우 토익점수 예측\n",
    "print (\"40시간: %f 점\" % (linear_regression(40).numpy()))"
   ]
  },
  {
   "cell_type": "code",
   "execution_count": null,
   "metadata": {},
   "outputs": [],
   "source": []
  }
 ],
 "metadata": {
  "kernelspec": {
   "display_name": "Python 3",
   "language": "python",
   "name": "python3"
  },
  "language_info": {
   "codemirror_mode": {
    "name": "ipython",
    "version": 3
   },
   "file_extension": ".py",
   "mimetype": "text/x-python",
   "name": "python",
   "nbconvert_exporter": "python",
   "pygments_lexer": "ipython3",
   "version": "3.7.6"
  }
 },
 "nbformat": 4,
 "nbformat_minor": 4
}
