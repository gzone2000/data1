{
 "cells": [
  {
   "cell_type": "code",
   "execution_count": 1,
   "metadata": {},
   "outputs": [],
   "source": [
    "import tensorflow as tf\n",
    "import numpy as np\n",
    "import matplotlib.pyplot as plt"
   ]
  },
  {
   "cell_type": "code",
   "execution_count": 2,
   "metadata": {},
   "outputs": [],
   "source": [
    "# ======== 파라미터 ========\n",
    "training_steps = 22000\n",
    "display_step = 1000"
   ]
  },
  {
   "cell_type": "code",
   "execution_count": 3,
   "metadata": {},
   "outputs": [
    {
     "name": "stdout",
     "output_type": "stream",
     "text": [
      "[[54. 12.]\n",
      " [ 8.  0.]\n",
      " [30. 12.]\n",
      " [24. 15.]\n",
      " [46. 12.]\n",
      " [12.  0.]\n",
      " [20. 36.]\n",
      " [37. 12.]\n",
      " [40. 12.]\n",
      " [48. 24.]]\n",
      "[[800.]\n",
      " [320.]\n",
      " [600.]\n",
      " [630.]\n",
      " [700.]\n",
      " [300.]\n",
      " [920.]\n",
      " [720.]\n",
      " [700.]\n",
      " [920.]]\n"
     ]
    }
   ],
   "source": [
    "# ======== 학습데이터 ========\n",
    "xy = np.loadtxt('train.txt', unpack=True, dtype='float32')\n",
    "\n",
    "# 학습시간, 해외거주\n",
    "x_data = xy[0:-1]\n",
    "\n",
    "# 토익점수\n",
    "y_data = xy[-1]\n",
    "\n",
    "#  배열 위치 변환\n",
    "X = x_data[:].T\n",
    "print(X)\n",
    "Y = y_data.reshape(-1,1)\n",
    "print(Y)"
   ]
  },
  {
   "cell_type": "code",
   "execution_count": 4,
   "metadata": {},
   "outputs": [
    {
     "data": {
      "text/plain": [
       "<tf.Tensor: shape=(1,), dtype=float32, numpy=array([-0.03992168], dtype=float32)>"
      ]
     },
     "execution_count": 4,
     "metadata": {},
     "output_type": "execute_result"
    }
   ],
   "source": [
    "# ======== W, B 초기값 설정 =========\n",
    "W = tf.Variable(tf.random.normal((2,1)))\n",
    "b = tf.Variable(np.random.randn(), name=\"bias\")\n",
    "W[0]"
   ]
  },
  {
   "cell_type": "code",
   "execution_count": 5,
   "metadata": {},
   "outputs": [],
   "source": [
    "# ======== Multiple Linear Regression 에서 학습될 가설 ========\n",
    "# Linear regression (Wx + b).\n",
    "def linear_regression(X):\n",
    "    return tf.matmul(X, W) + b"
   ]
  },
  {
   "cell_type": "code",
   "execution_count": 6,
   "metadata": {},
   "outputs": [],
   "source": [
    "# ======== Multiple Linear Regression 에서 학습될 가설의 Cost Function ========\n",
    "# Mean square error.\n",
    "def mean_square(y_pred, y_true):\n",
    "    return tf.reduce_mean(tf.square(y_pred - y_true)) "
   ]
  },
  {
   "cell_type": "code",
   "execution_count": 7,
   "metadata": {},
   "outputs": [],
   "source": [
    "# ======== Gradient Descent Algorithm 에서 Step ========\n",
    "learning_rate = 0.0006"
   ]
  },
  {
   "cell_type": "code",
   "execution_count": 8,
   "metadata": {},
   "outputs": [],
   "source": [
    "# ======== 텐서플로우에 내장된 GradientDescentOptimizer ========\n",
    "# Stochastic Gradient Descent Optimizer.\n",
    "optimizer = tf.optimizers.SGD(learning_rate)"
   ]
  },
  {
   "cell_type": "code",
   "execution_count": 9,
   "metadata": {},
   "outputs": [],
   "source": [
    "# ======== GradientDescentOptimizer ========\n",
    "# Optimization process. \n",
    "def run_optimization():\n",
    "    # Wrap computation inside a GradientTape for automatic differentiation. : 자동 미분\n",
    "    with tf.GradientTape() as g:\n",
    "        pred = linear_regression(X)\n",
    "        cost = mean_square(pred, Y)\n",
    "\n",
    "    # Compute gradients.\n",
    "    # gradients = g.gradient(cost, [W, b])\n",
    "    \n",
    "    # Update W and b following gradients.\n",
    "    # optimizer.apply_gradients(zip(gradients, [W, b]))\n",
    "    \n",
    "    weight, bias = g.gradient(cost, [W, b])\n",
    "    W.assign_sub(learning_rate * weight)\n",
    "    b.assign_sub(learning_rate * bias)"
   ]
  },
  {
   "cell_type": "code",
   "execution_count": 10,
   "metadata": {},
   "outputs": [
    {
     "name": "stdout",
     "output_type": "stream",
     "text": [
      "step: 1000, cost: 7062.544434, W1: 10.898037, W2: 17.661491, b: 42.568439\n",
      "step: 2000, cost: 4976.122559, W1: 10.167201, W2: 17.192175, b: 77.886459\n",
      "step: 3000, cost: 3556.757080, W1: 9.564409, W2: 16.805086, b: 107.016617\n",
      "step: 4000, cost: 2591.179443, W1: 9.067231, W2: 16.485815, b: 131.043015\n",
      "step: 5000, cost: 1934.310547, W1: 8.657160, W2: 16.222486, b: 150.859863\n",
      "step: 6000, cost: 1487.450439, W1: 8.318936, W2: 16.005285, b: 167.204727\n",
      "step: 7000, cost: 1183.457764, W1: 8.039972, W2: 15.826147, b: 180.685883\n",
      "step: 8000, cost: 976.654175, W1: 7.809880, W2: 15.678390, b: 191.805145\n",
      "step: 9000, cost: 835.969910, W1: 7.620106, W2: 15.556524, b: 200.976120\n",
      "step: 10000, cost: 740.263611, W1: 7.463577, W2: 15.456006, b: 208.540405\n",
      "step: 11000, cost: 675.155884, W1: 7.334475, W2: 15.373103, b: 214.779343\n",
      "step: 12000, cost: 630.864624, W1: 7.227993, W2: 15.304724, b: 219.925140\n",
      "step: 13000, cost: 600.732117, W1: 7.140166, W2: 15.248325, b: 224.169403\n",
      "step: 14000, cost: 580.234741, W1: 7.067728, W2: 15.201808, b: 227.670044\n",
      "step: 15000, cost: 566.290222, W1: 7.007980, W2: 15.163440, b: 230.557388\n",
      "step: 16000, cost: 556.804138, W1: 6.958702, W2: 15.131795, b: 232.938889\n",
      "step: 17000, cost: 550.350586, W1: 6.918055, W2: 15.105694, b: 234.903061\n",
      "step: 18000, cost: 545.960022, W1: 6.884530, W2: 15.084165, b: 236.523148\n",
      "step: 19000, cost: 542.973267, W1: 6.856878, W2: 15.066407, b: 237.859436\n",
      "step: 20000, cost: 540.941223, W1: 6.834074, W2: 15.051762, b: 238.961594\n",
      "step: 21000, cost: 539.559753, W1: 6.815265, W2: 15.039683, b: 239.870422\n",
      "step: 22000, cost: 538.619263, W1: 6.799748, W2: 15.029720, b: 240.620331\n"
     ]
    }
   ],
   "source": [
    "# Run training for the given number of steps.\n",
    "for step in range(1, training_steps + 1):\n",
    "    # Run the optimization to update W and b values.\n",
    "    run_optimization()\n",
    "    \n",
    "    if step % display_step == 0:\n",
    "        pred = linear_regression(X)\n",
    "        cost = mean_square(pred, Y)\n",
    "        print(\"step: %i, cost: %f, W1: %f, W2: %f, b: %f\" % (step, cost, W[0].numpy(), W[1].numpy(), b.numpy()))\n",
    "        #print(\"예측값 : {}\".format(pred.numpy()))\n",
    "        \n",
    "        '''\n",
    "        print(\"cost type: {}\".format(type(cost)))\n",
    "        print(\"W type: {}\".format(type(W)))\n",
    "        print(\"b type: {}\".format(type(b)))\n",
    "        print(\"pred type: {}\".format(type(pred)))\n",
    "        '''"
   ]
  },
  {
   "cell_type": "code",
   "execution_count": 11,
   "metadata": {},
   "outputs": [
    {
     "name": "stdout",
     "output_type": "stream",
     "text": [
      "30 시간, 10 개월 해외거주: 594.909973 점\n",
      "2 시간, 24 개월 해외거주: 614.933105 점\n"
     ]
    }
   ],
   "source": [
    "# ======== 학습된 우리의 프로그램에 예측 문의 ========\n",
    "\n",
    "sample = np.array([\n",
    "    [30, 10] \n",
    "], dtype=np.float32)\n",
    "\n",
    "sample1 = np.array([\n",
    "    [2, 24] \n",
    "], dtype=np.float32)\n",
    "\n",
    "# 30 시간 공부하고 10개월 해외에서 거주했을 경우 토익점수 예측\n",
    "print (\"%i 시간, %i 개월 해외거주: %f 점\" % (sample[0,0], sample[0,1], linear_regression(sample).numpy()))\n",
    "print (\"%i 시간, %i 개월 해외거주: %f 점\" % (sample1[0,0], sample1[0,1], linear_regression(sample1).numpy()))"
   ]
  },
  {
   "cell_type": "code",
   "execution_count": null,
   "metadata": {},
   "outputs": [],
   "source": []
  }
 ],
 "metadata": {
  "kernelspec": {
   "display_name": "Python 3",
   "language": "python",
   "name": "python3"
  },
  "language_info": {
   "codemirror_mode": {
    "name": "ipython",
    "version": 3
   },
   "file_extension": ".py",
   "mimetype": "text/x-python",
   "name": "python",
   "nbconvert_exporter": "python",
   "pygments_lexer": "ipython3",
   "version": "3.7.6"
  }
 },
 "nbformat": 4,
 "nbformat_minor": 4
}
